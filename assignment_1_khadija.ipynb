{
 "cells": [
  {
   "cell_type": "code",
   "execution_count": 1,
   "id": "98bebfcb-00d1-4829-877f-362873d7575d",
   "metadata": {},
   "outputs": [
    {
     "name": "stdout",
     "output_type": "stream",
     "text": [
      "Sum: 25\n",
      "difference:  5\n",
      "product: 150\n",
      "division:  1.5\n"
     ]
    }
   ],
   "source": [
    "a= 15\n",
    "b= 10\n",
    "sum = a+b\n",
    "difference = a-b\n",
    "product = a*b\n",
    "division = a/b\n",
    "print(\"Sum:\", sum)\n",
    "print(\"difference: \", difference)\n",
    "print(\"product:\", product)\n",
    "print(\"division: \", division)"
   ]
  },
  {
   "cell_type": "code",
   "execution_count": 2,
   "id": "d77cfc9b-df07-43db-814e-1433dbe31e0e",
   "metadata": {},
   "outputs": [
    {
     "name": "stdout",
     "output_type": "stream",
     "text": [
      "The sum of the two numbers 15,10 is 25 \n"
     ]
    }
   ],
   "source": [
    "print(f\"The sum of the two numbers {a},{b} is {sum} \")"
   ]
  },
  {
   "cell_type": "code",
   "execution_count": 3,
   "id": "b52a0ef5-b0ba-4126-84ae-984b4b713a55",
   "metadata": {},
   "outputs": [
    {
     "name": "stdout",
     "output_type": "stream",
     "text": [
      "7\n",
      "1\n"
     ]
    }
   ],
   "source": [
    "x = 15//2\n",
    "print(x)\n",
    "y = 15%2\n",
    "print(y)"
   ]
  },
  {
   "cell_type": "code",
   "execution_count": 5,
   "id": "c4c4f5e7-f69e-40b7-9479-a12796b7d959",
   "metadata": {},
   "outputs": [
    {
     "name": "stdout",
     "output_type": "stream",
     "text": [
      "Is x greater than y? True\n",
      "Is x equal y? False\n",
      "Is x not equal to y? True\n"
     ]
    }
   ],
   "source": [
    "# Boolean variables and comparisons\n",
    "x=12\n",
    "y=8\n",
    "is_greater = x>y\n",
    "is_equal = x==y\n",
    "is_not_equal = x !=y\n",
    "print(\"Is x greater than y?\", is_greater)\n",
    "print(\"Is x equal y?\" , is_equal)\n",
    "print(\"Is x not equal to y?\", is_not_equal)"
   ]
  },
  {
   "cell_type": "code",
   "execution_count": 12,
   "id": "1284798a-3fd7-44e3-898e-aa1004355401",
   "metadata": {},
   "outputs": [
    {
     "name": "stdout",
     "output_type": "stream",
     "text": [
      "Khadija's'age is 26. She is a Student is True\n"
     ]
    }
   ],
   "source": [
    "# Variable assignment\n",
    "name = \"Khadija\"\n",
    "age= 26\n",
    "is_student = True\n",
    "\n",
    "print(f\"{name}'s'age is {age}. She is a Student is {is_student}\")"
   ]
  },
  {
   "cell_type": "code",
   "execution_count": 17,
   "id": "ea263f9e-ee63-410b-8205-f7c500c4e38b",
   "metadata": {},
   "outputs": [
    {
     "data": {
      "text/plain": [
       "'Hello, Khadija!'"
      ]
     },
     "execution_count": 17,
     "metadata": {},
     "output_type": "execute_result"
    }
   ],
   "source": [
    "# Defining and using a function\n",
    "def greet(name):\n",
    "    return \"Hello, \" + name + \"!\"\n",
    "greet(\"Khadija\")"
   ]
  },
  {
   "cell_type": "code",
   "execution_count": 20,
   "id": "6ddaceeb-2a47-4fcc-9b3f-18e102562143",
   "metadata": {},
   "outputs": [
    {
     "name": "stdin",
     "output_type": "stream",
     "text": [
      "Enter your name: Khadija\n"
     ]
    },
    {
     "data": {
      "text/plain": [
       "'Hello, Khadija!'"
      ]
     },
     "execution_count": 20,
     "metadata": {},
     "output_type": "execute_result"
    }
   ],
   "source": [
    "# Defining and using a function\n",
    "def greet(name):\n",
    "    return \"Hello, \" + name + \"!\"\n",
    "my_name = input(\"Enter your name:\")\n",
    "greet(my_name)"
   ]
  },
  {
   "cell_type": "code",
   "execution_count": 26,
   "id": "9c5c0214-4892-4e83-9843-a31f2f518bc9",
   "metadata": {},
   "outputs": [
    {
     "name": "stdin",
     "output_type": "stream",
     "text": [
      "Enter first number: 3\n",
      "Enter second number: 23\n"
     ]
    },
    {
     "name": "stdout",
     "output_type": "stream",
     "text": [
      "The result of addition for 3, 23 is 26\n"
     ]
    }
   ],
   "source": [
    "def add_numbers(a,b):\n",
    "    return a+b\n",
    "a = int(input(\"Enter first number:\"))\n",
    "b = int(input(\"Enter second number:\"))\n",
    "\n",
    "addition_value = add_numbers(a,b)\n",
    "print(f\"The result of addition for {a}, {b} is {addition_value}\")\n"
   ]
  },
  {
   "cell_type": "code",
   "execution_count": 29,
   "id": "58fbece7-96e7-43cc-b23b-6e6c086bca08",
   "metadata": {},
   "outputs": [
    {
     "name": "stdout",
     "output_type": "stream",
     "text": [
      "Original message: Hello, World\n",
      "The length is: 12\n",
      "Upper case: HELLO, WORLD\n",
      "Lower case: hello, world\n",
      "Part of the message is : Hello\n"
     ]
    }
   ],
   "source": [
    "#Working with strings\n",
    "message = \"Hello, World\"\n",
    "length = len(message)\n",
    "uppercase = message.upper()\n",
    "lowercase = message.lower()\n",
    "substring = message[0:5]\n",
    "print(\"Original message:\", message)\n",
    "print(\"The length is:\", length)\n",
    "print(\"Upper case:\", uppercase)\n",
    "print(\"Lower case:\", lowercase)\n",
    "print(\"Part of the message is :\", substring)\n"
   ]
  },
  {
   "cell_type": "code",
   "execution_count": 32,
   "id": "ffb6db72-ca11-456b-833e-829dc2a664c7",
   "metadata": {},
   "outputs": [
    {
     "name": "stdin",
     "output_type": "stream",
     "text": [
      "Enter the last name, last name: Kobra\n",
      "Enter the first name, first name: Khadijatul\n"
     ]
    },
    {
     "name": "stdout",
     "output_type": "stream",
     "text": [
      "Kobra,Khadijatul\n"
     ]
    }
   ],
   "source": [
    "# basic input example\n",
    "Last= input(\"Enter the last name, last name:\")\n",
    "First = input(\"Enter the first name, first name:\")\n",
    "print(f\"{Last},{First}\")"
   ]
  },
  {
   "cell_type": "code",
   "execution_count": 33,
   "id": "e5eafc8f-85a8-45e5-b491-669c62f7a5f9",
   "metadata": {},
   "outputs": [
    {
     "name": "stdin",
     "output_type": "stream",
     "text": [
      "Enter your age: 26\n"
     ]
    },
    {
     "name": "stdout",
     "output_type": "stream",
     "text": [
      "You will be 27 years old next year.\n"
     ]
    }
   ],
   "source": [
    "#Numeric input examples\n",
    "age = int(input(\"Enter your age:\"))\n",
    "print(\"You will be\", age+1, \"years old next year.\")"
   ]
  },
  {
   "cell_type": "code",
   "execution_count": 35,
   "id": "1462a4e8-4525-4192-8415-d3c5d2df1dfd",
   "metadata": {},
   "outputs": [
    {
     "name": "stdin",
     "output_type": "stream",
     "text": [
      "Enter a number: 15.6\n",
      "Enter another number: 23.7\n"
     ]
    },
    {
     "name": "stdout",
     "output_type": "stream",
     "text": [
      "Sum:  39.3\n"
     ]
    }
   ],
   "source": [
    "# calculations with input\n",
    "num1 =float(input(\"Enter a number:\"))\n",
    "num2 =float(input(\"Enter another number:\"))\n",
    "sum_result = num1 + num2\n",
    "print(\"Sum: \", sum_result)"
   ]
  },
  {
   "cell_type": "code",
   "execution_count": 36,
   "id": "4574908c-0223-42eb-b84e-b955edb2b1db",
   "metadata": {},
   "outputs": [
    {
     "name": "stdin",
     "output_type": "stream",
     "text": [
      "Enter your city: East Haven\n",
      "Enter your country: USA\n"
     ]
    },
    {
     "name": "stdout",
     "output_type": "stream",
     "text": [
      "You are in: East Haven,USA\n"
     ]
    }
   ],
   "source": [
    "# String concatenation with input\n",
    "city = input(\"Enter your city:\")\n",
    "country = input(\"Enter your country:\")\n",
    "location = city+ \",\"+country\n",
    "print(\"You are in:\", location)"
   ]
  },
  {
   "cell_type": "code",
   "execution_count": 40,
   "id": "6a9ac463-beb7-4d42-a79d-2e0295c2f08e",
   "metadata": {},
   "outputs": [
    {
     "name": "stdin",
     "output_type": "stream",
     "text": [
      "Enter your name and age separated by comma: Khadija, 26\n"
     ]
    },
    {
     "name": "stdout",
     "output_type": "stream",
     "text": [
      "My name is Khadija, and my age is 26\n"
     ]
    }
   ],
   "source": [
    "# Multiple inputs\n",
    "name,age = input(\"Enter your name and age separated by comma:\").split()\n",
    "print(f\"My name is {name} and my age is {age}\")"
   ]
  },
  {
   "cell_type": "code",
   "execution_count": null,
   "id": "e49aba59-90d7-41ba-9082-359df7fec109",
   "metadata": {},
   "outputs": [],
   "source": []
  }
 ],
 "metadata": {
  "kernelspec": {
   "display_name": "Python 3 (ipykernel)",
   "language": "python",
   "name": "python3"
  },
  "language_info": {
   "codemirror_mode": {
    "name": "ipython",
    "version": 3
   },
   "file_extension": ".py",
   "mimetype": "text/x-python",
   "name": "python",
   "nbconvert_exporter": "python",
   "pygments_lexer": "ipython3",
   "version": "3.12.8"
  }
 },
 "nbformat": 4,
 "nbformat_minor": 5
}
